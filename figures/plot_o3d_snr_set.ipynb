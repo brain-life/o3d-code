{
 "cells": [
  {
   "cell_type": "code",
   "execution_count": 39,
   "metadata": {
    "collapsed": false
   },
   "outputs": [],
   "source": [
    "import sys\n",
    "sys.path.append('/N/dc2/projects/lifebid/Paolo/code/o3d-code/figures')\n",
    "sys.path.append('/N/dc2/projects/lifebid/Paolo/local/python/src/dipy')\n",
    "sys.path.append('/N/dc2/projects/lifebid/Paolo/local/python/src/nibabel')"
   ]
  },
  {
   "cell_type": "code",
   "execution_count": 40,
   "metadata": {
    "collapsed": false
   },
   "outputs": [],
   "source": [
    "import glob\n",
    "from plot_response import plot_response"
   ]
  },
  {
   "cell_type": "code",
   "execution_count": 41,
   "metadata": {
    "collapsed": true
   },
   "outputs": [],
   "source": [
    "src_dir = '/N/dc2/projects/lifebid/Paolo/data/O3D_BL_test'\n",
    "out_dir = src_dir + '/' + 'figures/response'"
   ]
  },
  {
   "cell_type": "code",
   "execution_count": null,
   "metadata": {
    "collapsed": false,
    "scrolled": true
   },
   "outputs": [],
   "source": [
    "for s in range(1,2):\n",
    "    src_res = glob.glob(\"%s/proj-5a022fc99c0d250055709e9c/sub-00%02d/dt-neuro-recon.id-*/response.txt\" % (src_dir, s))[0]\n",
    "    out_png = \"%s/sub-00%02d_response.png\" % (out_dir, s)\n",
    "    plot_response(src_res, out_png)"
   ]
  },
  {
   "cell_type": "code",
   "execution_count": null,
   "metadata": {
    "collapsed": true
   },
   "outputs": [],
   "source": []
  },
  {
   "cell_type": "code",
   "execution_count": null,
   "metadata": {
    "collapsed": true
   },
   "outputs": [],
   "source": [
    "app id 5bca308550fdf50028c6342c\n",
    "input id 5a050a00eec2b300611abff3\n",
    "proj id 5a022fc99c0d250055709e9c"
   ]
  },
  {
   "cell_type": "code",
   "execution_count": null,
   "metadata": {
    "collapsed": true
   },
   "outputs": [],
   "source": [
    "bl app run --id 5bca308550fdf50028c6342c --input dwi:5a050a00eec2b300611abff3 --project 5a022fc99c0d250055709e9c"
   ]
  },
  {
   "cell_type": "code",
   "execution_count": 54,
   "metadata": {
    "collapsed": true
   },
   "outputs": [],
   "source": [
    "import numpy as np"
   ]
  },
  {
   "cell_type": "code",
   "execution_count": 65,
   "metadata": {
    "collapsed": true
   },
   "outputs": [],
   "source": [
    "aa = np.array([[[1, 2], [3, 4]], [[5, 6], [8, 9]]])"
   ]
  },
  {
   "cell_type": "code",
   "execution_count": 66,
   "metadata": {
    "collapsed": false
   },
   "outputs": [
    {
     "data": {
      "text/plain": [
       "(2, 2, 2)"
      ]
     },
     "execution_count": 66,
     "metadata": {},
     "output_type": "execute_result"
    }
   ],
   "source": [
    "aa.shape"
   ]
  },
  {
   "cell_type": "code",
   "execution_count": 67,
   "metadata": {
    "collapsed": false
   },
   "outputs": [
    {
     "data": {
      "text/plain": [
       "array([[ 1.5,  3.5],\n",
       "       [ 5.5,  8.5]])"
      ]
     },
     "execution_count": 67,
     "metadata": {},
     "output_type": "execute_result"
    }
   ],
   "source": [
    "aa.mean(axis=2)"
   ]
  },
  {
   "cell_type": "code",
   "execution_count": 62,
   "metadata": {
    "collapsed": true
   },
   "outputs": [],
   "source": [
    "a2=np.array((2,2,2))"
   ]
  },
  {
   "cell_type": "code",
   "execution_count": 63,
   "metadata": {
    "collapsed": false
   },
   "outputs": [
    {
     "data": {
      "text/plain": [
       "array([2, 2, 2])"
      ]
     },
     "execution_count": 63,
     "metadata": {},
     "output_type": "execute_result"
    }
   ],
   "source": [
    "a2"
   ]
  },
  {
   "cell_type": "code",
   "execution_count": 77,
   "metadata": {
    "collapsed": true
   },
   "outputs": [],
   "source": [
    "import json"
   ]
  },
  {
   "cell_type": "code",
   "execution_count": 100,
   "metadata": {
    "collapsed": false
   },
   "outputs": [],
   "source": [
    "with open('/N/dc2/projects/lifebid/Paolo/code/o3d-code/figures/sub-0001_snr.json', \"r\") as src_json:\n",
    "    snr = json.load(src_json)"
   ]
  },
  {
   "cell_type": "code",
   "execution_count": 103,
   "metadata": {
    "collapsed": false
   },
   "outputs": [
    {
     "data": {
      "text/plain": [
       "16.007166119"
      ]
     },
     "execution_count": 103,
     "metadata": {},
     "output_type": "execute_result"
    }
   ],
   "source": [
    "float(snr[\"SNR data\"][0].split()[1])"
   ]
  },
  {
   "cell_type": "code",
   "execution_count": 102,
   "metadata": {
    "collapsed": false
   },
   "outputs": [
    {
     "data": {
      "text/plain": [
       "97"
      ]
     },
     "execution_count": 102,
     "metadata": {},
     "output_type": "execute_result"
    }
   ],
   "source": [
    "len(snr[\"SNR data\"])"
   ]
  },
  {
   "cell_type": "code",
   "execution_count": 126,
   "metadata": {
    "collapsed": false
   },
   "outputs": [],
   "source": [
    "dim = len(snr[\"SNR data\"])\n",
    "data = np.zeros(dim)\n",
    "for i in range(dim):\n",
    "    data[i] = float(snr[\"SNR data\"][i].split()[1])"
   ]
  },
  {
   "cell_type": "code",
   "execution_count": 106,
   "metadata": {
    "collapsed": false
   },
   "outputs": [
    {
     "data": {
      "text/plain": [
       "(97,)"
      ]
     },
     "execution_count": 106,
     "metadata": {},
     "output_type": "execute_result"
    }
   ],
   "source": [
    "data.shape"
   ]
  },
  {
   "cell_type": "code",
   "execution_count": 108,
   "metadata": {
    "collapsed": false
   },
   "outputs": [],
   "source": [
    "data2 = data"
   ]
  },
  {
   "cell_type": "code",
   "execution_count": 116,
   "metadata": {
    "collapsed": false
   },
   "outputs": [],
   "source": [
    "m = np.vstack((data, data2))"
   ]
  },
  {
   "cell_type": "code",
   "execution_count": 121,
   "metadata": {
    "collapsed": false
   },
   "outputs": [
    {
     "data": {
      "text/plain": [
       "6.0022137074889583"
      ]
     },
     "execution_count": 121,
     "metadata": {},
     "output_type": "execute_result"
    }
   ],
   "source": [
    "data[1:].mean()"
   ]
  },
  {
   "cell_type": "code",
   "execution_count": 122,
   "metadata": {
    "collapsed": false
   },
   "outputs": [
    {
     "data": {
      "text/plain": [
       "array([ 16.00716612,   9.91250356,   9.3422384 ,   3.07769384,\n",
       "         9.34520577,   5.68601315,   7.4724766 ,   3.39318899,\n",
       "         9.51455789,  10.30292483,   8.11024946,   8.52356188,\n",
       "         8.35537552,   6.29782151,   3.65919263,   3.42741974,\n",
       "         3.03095775,   9.75745842,   3.53859018,   2.89424672,\n",
       "         2.97839289,   5.68537728,   8.55090408,   4.83066839,\n",
       "         9.6244566 ,   3.98147034,   6.4611329 ,   7.80821346,\n",
       "         8.82612776,   4.8141359 ,   9.81850148,   3.08691389,\n",
       "         7.01793892,   4.23666426,   7.31404017,   4.6852672 ,\n",
       "         6.02185598,   4.30629151,   3.42794963,   5.77429244,\n",
       "         4.21886003,   8.49611369,   6.68347379,   9.34976281,\n",
       "         3.18398932,   7.63822548,   5.30661354,   5.58045951,\n",
       "        10.01434798,   2.92370847,   4.17064025,   3.56783998,\n",
       "         8.39479916,   7.55927221,   9.48594395,   8.04888846,\n",
       "         3.13100055,   2.8843908 ,   4.63609362,   4.53255356,\n",
       "         2.8683882 ,   7.72459718,   9.75608071,   7.15316626,\n",
       "         4.20889814,   3.14202221,   3.43706369,   2.85153777,\n",
       "         7.46007723,   5.52619901,   9.41515095,   9.17013087,\n",
       "         6.92192326,   2.81264401,   7.55153585,   3.64085851,\n",
       "         8.06351336,   2.98157221,   3.65908665,   3.15092433,\n",
       "         2.98771891,   3.0363626 ,   9.45733001,   7.71283367,\n",
       "         3.8301344 ,   3.19649467,   5.80947699,   4.535203  ,\n",
       "         6.35865262,   4.33140818,   4.06805399,   8.55705078,\n",
       "         7.6527444 ,   4.60196885,   6.04888026,   9.44026763,   8.39331548])"
      ]
     },
     "execution_count": 122,
     "metadata": {},
     "output_type": "execute_result"
    }
   ],
   "source": [
    "data"
   ]
  },
  {
   "cell_type": "code",
   "execution_count": 123,
   "metadata": {
    "collapsed": true
   },
   "outputs": [],
   "source": [
    "with open('/N/dc2/projects/lifebid/Paolo/code/o3d-code/figures/sub-0005_snr.json', \"r\") as src_json:\n",
    "    snr_0005 = json.load(src_json)"
   ]
  },
  {
   "cell_type": "code",
   "execution_count": 125,
   "metadata": {
    "collapsed": true
   },
   "outputs": [],
   "source": [
    "dim = len(snr_0005[\"SNR data\"])\n",
    "data_0005 = np.zeros(dim)\n",
    "for i in range(dim):\n",
    "    data_0005[i] = float(snr_0005[\"SNR data\"][i].split()[1])"
   ]
  },
  {
   "cell_type": "code",
   "execution_count": 170,
   "metadata": {
    "collapsed": true
   },
   "outputs": [],
   "source": [
    "with open('/N/dc2/projects/lifebid/Paolo/code/o3d-code/figures/sub-0009_snr.json', \"r\") as src_json:\n",
    "    snr_0009 = json.load(src_json)"
   ]
  },
  {
   "cell_type": "code",
   "execution_count": 171,
   "metadata": {
    "collapsed": false
   },
   "outputs": [],
   "source": [
    "dim = len(snr_0009[\"SNR data\"])\n",
    "data_0009 = np.zeros(dim)\n",
    "for i in range(dim):\n",
    "    data_0009[i] = float(snr_0009[\"SNR data\"][i].split()[1])"
   ]
  },
  {
   "cell_type": "code",
   "execution_count": 176,
   "metadata": {
    "collapsed": false
   },
   "outputs": [],
   "source": [
    "stat = np.vstack((data[1:79], data_0005[1:79], data_0009[1:]))"
   ]
  },
  {
   "cell_type": "code",
   "execution_count": 251,
   "metadata": {
    "collapsed": true
   },
   "outputs": [],
   "source": [
    "import os\n",
    "import numpy as np\n",
    "import nibabel as nib\n",
    "import matplotlib.pyplot as plt\n",
    "from matplotlib import colors as mcolors"
   ]
  },
  {
   "cell_type": "code",
   "execution_count": 252,
   "metadata": {
    "collapsed": true
   },
   "outputs": [],
   "source": [
    "def load_snr_stat(snr_src):\n",
    "    \n",
    "    with open(snr_src, \"r\") as json_src:\n",
    "        snr_json = json.load(json_src)\n",
    "    dim = len(snr_json[\"SNR data\"])\n",
    "    snr_data = np.zeros(dim)\n",
    "    for i in range(dim):\n",
    "        snr_data[i] = float(snr_json[\"SNR data\"][i].split()[1])\n",
    "        \n",
    "    return snr_data"
   ]
  },
  {
   "cell_type": "code",
   "execution_count": 319,
   "metadata": {
    "collapsed": false
   },
   "outputs": [],
   "source": [
    "def plot_snr_set(file_set, dir_out=\".\"):\n",
    "    \n",
    "    all_sub = []\n",
    "    all_stat = []\n",
    "    for f in range(len(file_set)):\n",
    "        all_sub.append(os.path.basename(file_set[f])[:8])\n",
    "        all_stat.append(load_snr_stat(file_set[f]))\n",
    "    all_sub.append(\"\")\n",
    "    all_sub.reverse()\n",
    "    all_stat.reverse()\n",
    "        \n",
    "    p = plt.subplot()\n",
    "    xmin = 0\n",
    "    xmax = 50\n",
    "    p.set_xlim([xmin, xmax])\n",
    "    ymin = 1\n",
    "    ymax = len(all_sub)\n",
    "    p.set_xlim([xmin, xmax])\n",
    "    p.set_ylim([ymin, ymax])\n",
    "    p.spines['right'].set_visible(False)\n",
    "    p.spines['top'].set_visible(False)\n",
    "    p.spines['left'].set_position(('axes', -0.05))\n",
    "    p.spines['bottom'].set_position(('axes', -0.05))\n",
    "    p.yaxis.set_ticks(np.arange(len(all_sub)))\n",
    "    p.yaxis.set_ticks_position('left')\n",
    "    p.xaxis.set_ticks_position('bottom')\n",
    "    p.set_yticklabels(all_sub)\n",
    "    color = mcolors.cnames['blue']\n",
    "    plt.title(\"SNR of diffusion signal\")\n",
    "    \n",
    "    for s in range(len(all_stat)):\n",
    "        stat = all_stat[s]\n",
    "        p.errorbar(stat[1:].mean(), s+1, xerr=stat[1:].std(), \\\n",
    "                   marker='o', linestyle='None', color=color)\n",
    "        p.plot(stat[0], s+1, marker='x', color=color)\n",
    "                   \n",
    "    plt.show()\n",
    "    snr_out = \"snr_\" + \"_\".join(map(\"{}\".format, all_sub[1:])) + \".eps\"\n",
    "    plt.savefig(os.path.join(dir_out, snr_out), bbox_inches='tight', magnification=10)"
   ]
  },
  {
   "cell_type": "code",
   "execution_count": 321,
   "metadata": {
    "collapsed": false
   },
   "outputs": [
    {
     "data": {
      "image/png": "[encoded data removed]",
      "text/plain": [
       "<matplotlib.figure.Figure at 0x7f50aba0ccd0>"
      ]
     },
     "metadata": {},
     "output_type": "display_data"
    }
   ],
   "source": [
    "f1 = '/N/dc2/projects/lifebid/Paolo/code/o3d-code/figures/sub-0005_snr.json'\n",
    "f2 = '/N/dc2/projects/lifebid/Paolo/code/o3d-code/figures/sub-0006_snr.json'\n",
    "f3 = '/N/dc2/projects/lifebid/Paolo/code/o3d-code/figures/sub-0007_snr.json'\n",
    "f4 = '/N/dc2/projects/lifebid/Paolo/code/o3d-code/figures/sub-0008_snr.json'\n",
    "out = '/N/dc2/projects/lifebid/Paolo/code/o3d-code/figures'\n",
    "plot_snr_set([f1, f2, f3, f4], dir_out=out)"
   ]
  },
  {
   "cell_type": "code",
   "execution_count": 322,
   "metadata": {
    "collapsed": false
   },
   "outputs": [
    {
     "data": {
      "image/png": "[encoded data removed]",
      "text/plain": [
       "<matplotlib.figure.Figure at 0x7f50abd71ad0>"
      ]
     },
     "metadata": {},
     "output_type": "display_data"
    }
   ],
   "source": [
    "f1 = '/N/dc2/projects/lifebid/Paolo/code/o3d-code/figures/sub-0001_snr.json'\n",
    "f2 = '/N/dc2/projects/lifebid/Paolo/code/o3d-code/figures/sub-0002_snr.json'\n",
    "f3 = '/N/dc2/projects/lifebid/Paolo/code/o3d-code/figures/sub-0003_snr.json'\n",
    "f4 = '/N/dc2/projects/lifebid/Paolo/code/o3d-code/figures/sub-0004_snr.json'\n",
    "out = '/N/dc2/projects/lifebid/Paolo/code/o3d-code/figures'\n",
    "plot_snr_set([f1, f2, f3, f4], dir_out=out)"
   ]
  },
  {
   "cell_type": "code",
   "execution_count": 323,
   "metadata": {
    "collapsed": false
   },
   "outputs": [
    {
     "data": {
      "image/png": "[encoded data removed]",
      "text/plain": [
       "<matplotlib.figure.Figure at 0x7f50ab3f1b90>"
      ]
     },
     "metadata": {},
     "output_type": "display_data"
    }
   ],
   "source": [
    "f1 = '/N/dc2/projects/lifebid/Paolo/code/o3d-code/figures/sub-0009_snr.json'\n",
    "f2 = '/N/dc2/projects/lifebid/Paolo/code/o3d-code/figures/sub-0010_snr.json'\n",
    "f3 = '/N/dc2/projects/lifebid/Paolo/code/o3d-code/figures/sub-0011_snr.json'\n",
    "f4 = '/N/dc2/projects/lifebid/Paolo/code/o3d-code/figures/sub-0012_snr.json'\n",
    "out = '/N/dc2/projects/lifebid/Paolo/code/o3d-code/figures'\n",
    "plot_snr_set([f1, f2, f3, f4], dir_out=out)"
   ]
  },
  {
   "cell_type": "code",
   "execution_count": 204,
   "metadata": {
    "collapsed": false
   },
   "outputs": [
    {
     "data": {
      "text/plain": [
       "['sub-0002', 'sub-0002']"
      ]
     },
     "execution_count": 204,
     "metadata": {},
     "output_type": "execute_result"
    }
   ],
   "source": [
    "ss = []\n",
    "s = \"sub-0002_snr.gz\"\n",
    "s[:8]\n",
    "ss.append(s[:8])\n",
    "ss.append(s[:8])\n",
    "ss"
   ]
  },
  {
   "cell_type": "code",
   "execution_count": 262,
   "metadata": {
    "collapsed": false
   },
   "outputs": [],
   "source": [
    "p.set_xscale?"
   ]
  },
  {
   "cell_type": "code",
   "execution_count": 153,
   "metadata": {
    "collapsed": false
   },
   "outputs": [
    {
     "data": {
      "text/plain": [
       "10.20525516514402"
      ]
     },
     "execution_count": 153,
     "metadata": {},
     "output_type": "execute_result"
    }
   ],
   "source": [
    "stat.mean()"
   ]
  },
  {
   "cell_type": "code",
   "execution_count": 207,
   "metadata": {
    "collapsed": false
   },
   "outputs": [],
   "source": [
    "pp = ['s1', 's2', 's3']"
   ]
  },
  {
   "cell_type": "code",
   "execution_count": 213,
   "metadata": {
    "collapsed": false
   },
   "outputs": [
    {
     "data": {
      "text/plain": [
       "'snr_s1_s2_s3'"
      ]
     },
     "execution_count": 213,
     "metadata": {},
     "output_type": "execute_result"
    }
   ],
   "source": [
    "\"snr_\" + \"_\".join(map(\"{}\".format, pp))"
   ]
  },
  {
   "cell_type": "code",
   "execution_count": 310,
   "metadata": {
    "collapsed": true
   },
   "outputs": [],
   "source": [
    "pp.reverse()"
   ]
  },
  {
   "cell_type": "code",
   "execution_count": 311,
   "metadata": {
    "collapsed": false
   },
   "outputs": [
    {
     "data": {
      "text/plain": [
       "['s3', 's2', 's1']"
      ]
     },
     "execution_count": 311,
     "metadata": {},
     "output_type": "execute_result"
    }
   ],
   "source": [
    "pp"
   ]
  },
  {
   "cell_type": "code",
   "execution_count": 318,
   "metadata": {
    "collapsed": false
   },
   "outputs": [
    {
     "data": {
      "text/plain": [
       "['s2', 's1']"
      ]
     },
     "execution_count": 318,
     "metadata": {},
     "output_type": "execute_result"
    }
   ],
   "source": [
    "pp[1:]"
   ]
  },
  {
   "cell_type": "code",
   "execution_count": null,
   "metadata": {
    "collapsed": true
   },
   "outputs": [],
   "source": []
  }
 ],
 "metadata": {
  "kernelspec": {
   "display_name": "Python 2.7",
   "language": "python",
   "name": "python2a"
  },
  "language_info": {
   "codemirror_mode": {
    "name": "ipython",
    "version": 2
   },
   "file_extension": ".py",
   "mimetype": "text/x-python",
   "name": "python",
   "nbconvert_exporter": "python",
   "pygments_lexer": "ipython2",
   "version": "2.7.13"
  }
 },
 "nbformat": 4,
 "nbformat_minor": 2
}
